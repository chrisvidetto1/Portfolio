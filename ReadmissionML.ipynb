{
 "cells": [
  {
   "cell_type": "markdown",
   "metadata": {},
   "source": [
    "# Predicting 30-Day Readmission for Patients\n",
    "\n",
    "# by: Chris Videtto\n",
    "\n",
    "## Data set from UCI Machine Learning Repository \n",
    "## Submitted on behalf of the Center for Clinical and Translational Research \n",
    "## Virginia Commonwealth University"
   ]
  },
  {
   "cell_type": "markdown",
   "metadata": {},
   "source": [
    "### Importing the neccessary packages"
   ]
  },
  {
   "cell_type": "code",
   "execution_count": 1,
   "metadata": {},
   "outputs": [],
   "source": [
    "import numpy as np\n",
    "import pandas as pd\n",
    "from sklearn.model_selection import train_test_split\n",
    "from sklearn.datasets import load_iris\n",
    "\n",
    "#plotting\n",
    "import matplotlib.pyplot as plt\n",
    "import seaborn as sns\n",
    "\n",
    "#linear algebra\n",
    "import numpy as np\n",
    "\n",
    "#data processing\n",
    "import pandas as pd\n",
    "\n",
    "#splitting data\n",
    "from sklearn.model_selection import train_test_split\n",
    "\n",
    "#scaling\n",
    "from sklearn.preprocessing import StandardScaler\n",
    "\n",
    "#tuning\n",
    "from sklearn.model_selection import RandomizedSearchCV\n",
    "\n",
    "#model evaluation\n",
    "from sklearn import metrics"
   ]
  },
  {
   "cell_type": "markdown",
   "metadata": {},
   "source": [
    "### EDA of the raw data set"
   ]
  },
  {
   "cell_type": "code",
   "execution_count": 17,
   "metadata": {},
   "outputs": [],
   "source": [
    "#importing data\n",
    "file = r\"C:\\Users\\chris\\OneDrive\\Desktop\\550 analysis\\DiabetesProject\\MODdiabetesSMOTE100k.csv\"\n",
    "df = pd.read_csv(file)"
   ]
  },
  {
   "cell_type": "code",
   "execution_count": 18,
   "metadata": {},
   "outputs": [
    {
     "data": {
      "text/html": [
       "<div>\n",
       "<style scoped>\n",
       "    .dataframe tbody tr th:only-of-type {\n",
       "        vertical-align: middle;\n",
       "    }\n",
       "\n",
       "    .dataframe tbody tr th {\n",
       "        vertical-align: top;\n",
       "    }\n",
       "\n",
       "    .dataframe thead th {\n",
       "        text-align: right;\n",
       "    }\n",
       "</style>\n",
       "<table border=\"1\" class=\"dataframe\">\n",
       "  <thead>\n",
       "    <tr style=\"text-align: right;\">\n",
       "      <th></th>\n",
       "      <th>age</th>\n",
       "      <th>num_medications</th>\n",
       "      <th>number_emergency</th>\n",
       "      <th>number_inpatient</th>\n",
       "      <th>diabetes_DRGs</th>\n",
       "      <th>number_diagnoses</th>\n",
       "      <th>max_glu_serum</th>\n",
       "      <th>A1Cresult</th>\n",
       "      <th>metformin</th>\n",
       "      <th>insulin</th>\n",
       "      <th>readmitted</th>\n",
       "    </tr>\n",
       "  </thead>\n",
       "  <tbody>\n",
       "    <tr>\n",
       "      <th>0</th>\n",
       "      <td>5</td>\n",
       "      <td>1</td>\n",
       "      <td>0</td>\n",
       "      <td>0</td>\n",
       "      <td>0</td>\n",
       "      <td>1</td>\n",
       "      <td>0</td>\n",
       "      <td>0</td>\n",
       "      <td>0</td>\n",
       "      <td>0</td>\n",
       "      <td>0</td>\n",
       "    </tr>\n",
       "    <tr>\n",
       "      <th>1</th>\n",
       "      <td>15</td>\n",
       "      <td>18</td>\n",
       "      <td>0</td>\n",
       "      <td>0</td>\n",
       "      <td>0</td>\n",
       "      <td>9</td>\n",
       "      <td>0</td>\n",
       "      <td>0</td>\n",
       "      <td>0</td>\n",
       "      <td>3</td>\n",
       "      <td>0</td>\n",
       "    </tr>\n",
       "    <tr>\n",
       "      <th>2</th>\n",
       "      <td>25</td>\n",
       "      <td>13</td>\n",
       "      <td>0</td>\n",
       "      <td>1</td>\n",
       "      <td>0</td>\n",
       "      <td>6</td>\n",
       "      <td>0</td>\n",
       "      <td>0</td>\n",
       "      <td>0</td>\n",
       "      <td>0</td>\n",
       "      <td>0</td>\n",
       "    </tr>\n",
       "    <tr>\n",
       "      <th>3</th>\n",
       "      <td>35</td>\n",
       "      <td>16</td>\n",
       "      <td>0</td>\n",
       "      <td>0</td>\n",
       "      <td>0</td>\n",
       "      <td>7</td>\n",
       "      <td>0</td>\n",
       "      <td>0</td>\n",
       "      <td>0</td>\n",
       "      <td>3</td>\n",
       "      <td>0</td>\n",
       "    </tr>\n",
       "    <tr>\n",
       "      <th>4</th>\n",
       "      <td>45</td>\n",
       "      <td>8</td>\n",
       "      <td>0</td>\n",
       "      <td>0</td>\n",
       "      <td>0</td>\n",
       "      <td>5</td>\n",
       "      <td>0</td>\n",
       "      <td>0</td>\n",
       "      <td>0</td>\n",
       "      <td>2</td>\n",
       "      <td>0</td>\n",
       "    </tr>\n",
       "  </tbody>\n",
       "</table>\n",
       "</div>"
      ],
      "text/plain": [
       "   age  num_medications  number_emergency  number_inpatient  diabetes_DRGs  \\\n",
       "0    5                1                 0                 0              0   \n",
       "1   15               18                 0                 0              0   \n",
       "2   25               13                 0                 1              0   \n",
       "3   35               16                 0                 0              0   \n",
       "4   45                8                 0                 0              0   \n",
       "\n",
       "   number_diagnoses  max_glu_serum  A1Cresult  metformin  insulin  readmitted  \n",
       "0                 1              0          0          0        0           0  \n",
       "1                 9              0          0          0        3           0  \n",
       "2                 6              0          0          0        0           0  \n",
       "3                 7              0          0          0        3           0  \n",
       "4                 5              0          0          0        2           0  "
      ]
     },
     "execution_count": 18,
     "metadata": {},
     "output_type": "execute_result"
    }
   ],
   "source": [
    "df.head(5)"
   ]
  },
  {
   "cell_type": "code",
   "execution_count": 12,
   "metadata": {},
   "outputs": [
    {
     "name": "stdout",
     "output_type": "stream",
     "text": [
      "<class 'pandas.core.frame.DataFrame'>\n",
      "RangeIndex: 85845 entries, 0 to 85844\n",
      "Data columns (total 11 columns):\n",
      " #   Column            Non-Null Count  Dtype \n",
      "---  ------            --------------  ----- \n",
      " 0   age               85845 non-null  int64 \n",
      " 1   num_medications   85845 non-null  int64 \n",
      " 2   number_emergency  85845 non-null  int64 \n",
      " 3   number_inpatient  85845 non-null  int64 \n",
      " 4   diabetes_DRGs     85845 non-null  object\n",
      " 5   number_diagnoses  85845 non-null  int64 \n",
      " 6   max_glu_serum     85845 non-null  int64 \n",
      " 7   A1Cresult         85845 non-null  int64 \n",
      " 8   metformin         85845 non-null  int64 \n",
      " 9   insulin           85845 non-null  int64 \n",
      " 10  readmitted        85845 non-null  int64 \n",
      "dtypes: int64(10), object(1)\n",
      "memory usage: 7.2+ MB\n"
     ]
    }
   ],
   "source": [
    "df.info()"
   ]
  },
  {
   "cell_type": "code",
   "execution_count": null,
   "metadata": {},
   "outputs": [],
   "source": [
    "### Visualizing the data"
   ]
  },
  {
   "cell_type": "code",
   "execution_count": 13,
   "metadata": {},
   "outputs": [
    {
     "data": {
      "text/plain": [
       "<matplotlib.axes._subplots.AxesSubplot at 0x167154b6e88>"
      ]
     },
     "execution_count": 13,
     "metadata": {},
     "output_type": "execute_result"
    },
    {
     "data": {
      "image/png": "[encoded data removed]",
      "text/plain": [
       "<Figure size 432x288 with 1 Axes>"
      ]
     },
     "metadata": {
      "needs_background": "light"
     },
     "output_type": "display_data"
    }
   ],
   "source": [
    "df.plot()"
   ]
  },
  {
   "cell_type": "code",
   "execution_count": 15,
   "metadata": {},
   "outputs": [
    {
     "data": {
      "text/plain": [
       "<matplotlib.axes._subplots.AxesSubplot at 0x1671cac5808>"
      ]
     },
     "execution_count": 15,
     "metadata": {},
     "output_type": "execute_result"
    },
    {
     "data": {
      "image/png": "[encoded data removed]",
      "text/plain": [
       "<Figure size 432x288 with 1 Axes>"
      ]
     },
     "metadata": {
      "needs_background": "light"
     },
     "output_type": "display_data"
    }
   ],
   "source": [
    "df['age'].hist()"
   ]
  },
  {
   "cell_type": "code",
   "execution_count": 16,
   "metadata": {},
   "outputs": [
    {
     "data": {
      "text/plain": [
       "<matplotlib.axes._subplots.AxesSubplot at 0x1671cb54488>"
      ]
     },
     "execution_count": 16,
     "metadata": {},
     "output_type": "execute_result"
    },
    {
     "data": {
      "image/png": "[encoded data removed]",
      "text/plain": [
       "<Figure size 432x288 with 1 Axes>"
      ]
     },
     "metadata": {
      "needs_background": "light"
     },
     "output_type": "display_data"
    }
   ],
   "source": [
    "df['num_medications'].hist()"
   ]
  },
  {
   "cell_type": "code",
   "execution_count": 20,
   "metadata": {},
   "outputs": [
    {
     "data": {
      "text/plain": [
       "<matplotlib.axes._subplots.AxesSubplot at 0x1671cc82ec8>"
      ]
     },
     "execution_count": 20,
     "metadata": {},
     "output_type": "execute_result"
    },
    {
     "data": {
      "image/png": "[encoded data removed]",
      "text/plain": [
       "<Figure size 432x288 with 1 Axes>"
      ]
     },
     "metadata": {
      "needs_background": "light"
     },
     "output_type": "display_data"
    }
   ],
   "source": [
    "df['number_diagnoses'].hist(bins=8)"
   ]
  },
  {
   "cell_type": "markdown",
   "metadata": {},
   "source": [
    "### Splitting data for train/test"
   ]
  },
  {
   "cell_type": "code",
   "execution_count": 6,
   "metadata": {},
   "outputs": [],
   "source": [
    "X = df.drop(['readmitted'], axis = 1)\n",
    "y = df.pop('readmitted')"
   ]
  },
  {
   "cell_type": "code",
   "execution_count": 7,
   "metadata": {},
   "outputs": [],
   "source": [
    "X_train, X_test, y_train, y_test = train_test_split(X, y, test_size=0.25, random_state=1)"
   ]
  },
  {
   "cell_type": "code",
   "execution_count": 8,
   "metadata": {},
   "outputs": [],
   "source": [
    "## Scaling data\n",
    "sc = StandardScaler()\n",
    "\n",
    "X_train = sc.fit_transform(X_train)\n",
    "X_test = sc.transform(X_test)"
   ]
  },
  {
   "cell_type": "markdown",
   "metadata": {},
   "source": [
    "### Predictive Modeling"
   ]
  },
  {
   "cell_type": "code",
   "execution_count": 9,
   "metadata": {},
   "outputs": [
    {
     "name": "stdout",
     "output_type": "stream",
     "text": [
      "Accuracy on Train set 0.8087849276983055\n",
      "Accuracy on Test set 0.8074736744012674\n",
      "F1-score on Test set: 0.5797396257119609\n",
      "              precision    recall  f1-score   support\n",
      "\n",
      "           0       0.78      1.00      0.88     14523\n",
      "           1       0.99      0.41      0.58      6939\n",
      "\n",
      "    accuracy                           0.81     21462\n",
      "   macro avg       0.88      0.70      0.73     21462\n",
      "weighted avg       0.85      0.81      0.78     21462\n",
      "\n"
     ]
    }
   ],
   "source": [
    "from sklearn.discriminant_analysis import LinearDiscriminantAnalysis\n",
    "\n",
    "\n",
    "LDA = LinearDiscriminantAnalysis(solver='svd')\n",
    "\n",
    "# fit the model\n",
    "LDA.fit(X_train, y_train)\n",
    "\n",
    "y_predict_LDA = LDA.predict(X_test)\n",
    "\n",
    "# model score\n",
    "predict_train_LDA = LDA.predict(X_train)\n",
    "predict_test_LDA = LDA.predict(X_test)\n",
    "\n",
    "# accuracy score\n",
    "LDA_train_score = LDA.score(X_train,y_train)\n",
    "LDA_test_score = LDA.score(X_test,y_test)\n",
    "\n",
    "# f1-score\n",
    "LDA_f1_score = metrics.f1_score(y_test,predict_test_LDA)\n",
    "LDA_recall = metrics.recall_score(y_test, predict_test_LDA)\n",
    "\n",
    "print('Accuracy on Train set',LDA_train_score)\n",
    "print('Accuracy on Test set',LDA_test_score)\n",
    "print('F1-score on Test set:',LDA_f1_score)\n",
    "print(metrics.classification_report(y_test, predict_test_LDA))"
   ]
  },
  {
   "cell_type": "code",
   "execution_count": 50,
   "metadata": {},
   "outputs": [
    {
     "name": "stdout",
     "output_type": "stream",
     "text": [
      "Accuracy on Train set 0.8287392828344332\n",
      "Accuracy on Test set 0.8272610584518167\n",
      "F1-score on Test set: 0.5774664895544017\n",
      "              precision    recall  f1-score   support\n",
      "\n",
      "           0       0.81      0.99      0.89     14480\n",
      "           1       0.95      0.41      0.58      5776\n",
      "\n",
      "    accuracy                           0.83     20256\n",
      "   macro avg       0.88      0.70      0.73     20256\n",
      "weighted avg       0.85      0.83      0.80     20256\n",
      "\n"
     ]
    }
   ],
   "source": [
    "from sklearn.naive_bayes import GaussianNB\n",
    "\n",
    "NB_model = GaussianNB()\n",
    "\n",
    "# fit the model\n",
    "NB_model.fit(X_train, y_train)\n",
    "\n",
    "y_predict_NB = NB_model.predict(X_test)\n",
    "\n",
    "# model score\n",
    "predict_train_NB = NB_model.predict(X_train)\n",
    "predict_test_NB = NB_model.predict(X_test)\n",
    "\n",
    "# accuracy score\n",
    "NB_train_score = NB_model.score(X_train,y_train)\n",
    "NB_test_score = NB_model.score(X_test,y_test)\n",
    "\n",
    "# f1-score\n",
    "NB_f1_score = metrics.f1_score(y_test,predict_test_NB)\n",
    "NB_recall = metrics.recall_score(y_test, predict_test_NB)\n",
    "\n",
    "print('Accuracy on Train set',NB_train_score)\n",
    "print('Accuracy on Test set',NB_test_score)\n",
    "print('F1-score on Test set:',NB_f1_score)\n",
    "print(metrics.classification_report(y_test, predict_test_NB))"
   ]
  },
  {
   "cell_type": "code",
   "execution_count": 52,
   "metadata": {},
   "outputs": [
    {
     "name": "stdout",
     "output_type": "stream",
     "text": [
      "Accuracy on Train set 0.8301216120591769\n",
      "Accuracy on Test set 0.8294332543443917\n",
      "F1-score on Test set: 0.5835844281065444\n",
      "              precision    recall  f1-score   support\n",
      "\n",
      "           0       0.81      0.99      0.89     14480\n",
      "           1       0.96      0.42      0.58      5776\n",
      "\n",
      "    accuracy                           0.83     20256\n",
      "   macro avg       0.89      0.71      0.74     20256\n",
      "weighted avg       0.85      0.83      0.80     20256\n",
      "\n"
     ]
    }
   ],
   "source": [
    "from sklearn.linear_model import LogisticRegression\n",
    "\n",
    "LR_model = LogisticRegression(max_iter=2000)\n",
    "\n",
    "# fit the model\n",
    "LR_model.fit(X_train, y_train)\n",
    "\n",
    "y_predict_LR = LR_model.predict(X_test)\n",
    "\n",
    "# model score\n",
    "predict_train_LR = LR_model.predict(X_train)\n",
    "predict_test_LR = LR_model.predict(X_test)\n",
    "\n",
    "# accuracy score\n",
    "LR_train_score = LR_model.score(X_train,y_train)\n",
    "LR_test_score = LR_model.score(X_test,y_test)\n",
    "\n",
    "# f1-score\n",
    "LR_f1_score = metrics.f1_score(y_test,predict_test_LR)\n",
    "LR_recall = metrics.recall_score(y_test,predict_test_LR)\n",
    "\n",
    "print('Accuracy on Train set',LR_train_score)\n",
    "print('Accuracy on Test set',LR_test_score)\n",
    "print('F1-score on Test set:',LR_f1_score)\n",
    "print(metrics.classification_report(y_test, predict_test_LR))"
   ]
  },
  {
   "cell_type": "code",
   "execution_count": 53,
   "metadata": {},
   "outputs": [
    {
     "name": "stdout",
     "output_type": "stream",
     "text": [
      "Accuracy on Train set 0.9121891816281863\n",
      "Accuracy on Test set 0.8541666666666666\n",
      "F1-score on Test set: 0.7293880542323197\n",
      "\n",
      "\n",
      "              precision    recall  f1-score   support\n",
      "\n",
      "           0       0.88      0.92      0.90     14480\n",
      "           1       0.77      0.69      0.73      5776\n",
      "\n",
      "    accuracy                           0.85     20256\n",
      "   macro avg       0.83      0.80      0.81     20256\n",
      "weighted avg       0.85      0.85      0.85     20256\n",
      "\n"
     ]
    }
   ],
   "source": [
    "from sklearn.tree import DecisionTreeClassifier\n",
    "\n",
    "DT_model= DecisionTreeClassifier()\n",
    "\n",
    "# fit the model\n",
    "DT_model.fit(X_train,y_train)\n",
    "\n",
    "# model score\n",
    "predict_train_DT = DT_model.predict(X_train)\n",
    "predict_test_DT = DT_model.predict(X_test)\n",
    "\n",
    "# accuracy score\n",
    "DT_train_score = DT_model.score(X_train,y_train)\n",
    "DT_test_score = DT_model.score(X_test,y_test)\n",
    "\n",
    "# f1-score\n",
    "DT_f1_score = metrics.f1_score(y_test, predict_test_DT)\n",
    "\n",
    "print('Accuracy on Train set',DT_train_score)\n",
    "print('Accuracy on Test set',DT_test_score)\n",
    "print('F1-score on Test set:',DT_f1_score)\n",
    "print('\\n')\n",
    "print(metrics.classification_report(y_test, predict_test_DT))"
   ]
  },
  {
   "cell_type": "code",
   "execution_count": 10,
   "metadata": {},
   "outputs": [
    {
     "name": "stdout",
     "output_type": "stream",
     "text": [
      "Accuracy on Train set 0.9056583259556094\n",
      "Accuracy on Test set 0.8697232317584568\n",
      "F1-score on Test set: 0.7861077111383109\n",
      "              precision    recall  f1-score   support\n",
      "\n",
      "           0       0.88      0.93      0.91     14523\n",
      "           1       0.84      0.74      0.79      6939\n",
      "\n",
      "    accuracy                           0.87     21462\n",
      "   macro avg       0.86      0.84      0.85     21462\n",
      "weighted avg       0.87      0.87      0.87     21462\n",
      "\n"
     ]
    }
   ],
   "source": [
    "from sklearn.ensemble import RandomForestClassifier\n",
    "\n",
    "# create object model\n",
    "RF_model = RandomForestClassifier()\n",
    "\n",
    "# fit the model\n",
    "RF_model.fit(X_train,y_train)\n",
    "\n",
    "# model score\n",
    "predict_train_RF = RF_model.predict(X_train)\n",
    "predict_test_RF = RF_model.predict(X_test)\n",
    "\n",
    "# accuracy score\n",
    "RF_train_score = RF_model.score(X_train,y_train)\n",
    "RF_test_score = RF_model.score(X_test,y_test)\n",
    "\n",
    "# f1-score\n",
    "RF_f1_score = metrics.f1_score(y_test,predict_test_RF)\n",
    "\n",
    "print('Accuracy on Train set',RF_train_score)\n",
    "print('Accuracy on Test set',RF_test_score)\n",
    "print('F1-score on Test set:',RF_f1_score)\n",
    "print(metrics.classification_report(y_test,predict_test_RF))"
   ]
  },
  {
   "cell_type": "code",
   "execution_count": 54,
   "metadata": {},
   "outputs": [
    {
     "data": {
      "image/png": "[encoded data removed]",
      "text/plain": [
       "<Figure size 720x432 with 1 Axes>"
      ]
     },
     "metadata": {},
     "output_type": "display_data"
    }
   ],
   "source": [
    "feature_score = pd.DataFrame(RF_model.feature_importances_, index =df.columns,  columns=['Feature_importance']).sort_values('Feature_importance', ascending=False)\n",
    "\n",
    "plt.rcParams.update({'font.size': 22})\n",
    "plt.style.use('fivethirtyeight')\n",
    "feature_score.plot(kind='bar',figsize=(10,6));\n",
    "plt.xticks(rotation=70);\n",
    "plt.title('Feature Importance Random forest');"
   ]
  },
  {
   "cell_type": "code",
   "execution_count": 9,
   "metadata": {},
   "outputs": [
    {
     "name": "stdout",
     "output_type": "stream",
     "text": [
      "Pearsons correlation: 0.030\n"
     ]
    }
   ],
   "source": [
    "from scipy.stats import pearsonr\n",
    "num_medications = df['num_medications']\n",
    "age = df['age']\n",
    "corr, _ = pearsonr(num_medications, age)\n",
    "print('Pearsons correlation: %.3f' % corr)"
   ]
  },
  {
   "cell_type": "code",
   "execution_count": 12,
   "metadata": {},
   "outputs": [
    {
     "name": "stdout",
     "output_type": "stream",
     "text": [
      "Pearsons correlation: 0.251\n"
     ]
    }
   ],
   "source": [
    "from scipy.stats import pearsonr\n",
    "num_medications = df['number_diagnoses']\n",
    "age = df['num_medications']\n",
    "corr, _ = pearsonr(num_medications, age)\n",
    "print('Pearsons correlation: %.3f' % corr)"
   ]
  },
  {
   "cell_type": "code",
   "execution_count": 14,
   "metadata": {},
   "outputs": [
    {
     "data": {
      "text/plain": [
       "F_onewayResult(statistic=39462.70507005005, pvalue=0.0)"
      ]
     },
     "execution_count": 14,
     "metadata": {},
     "output_type": "execute_result"
    }
   ],
   "source": [
    "import scipy.stats as stats\n",
    "\n",
    "stats.f_oneway(df['readmitted'][df['diabetes_DRGs'] == 1],\n",
    "               df['readmitted'][df['diabetes_DRGs'] == 0])"
   ]
  },
  {
   "cell_type": "code",
   "execution_count": null,
   "metadata": {},
   "outputs": [],
   "source": [
    "stats.f_oneway(df['readmitted'][df['num_medications'] == 1],\n",
    "               df['readmitted'][df['diabetes_DRGs'] == 0])"
   ]
  }
 ],
 "metadata": {
  "kernelspec": {
   "display_name": "Python 3",
   "language": "python",
   "name": "python3"
  },
  "language_info": {
   "codemirror_mode": {
    "name": "ipython",
    "version": 3
   },
   "file_extension": ".py",
   "mimetype": "text/x-python",
   "name": "python",
   "nbconvert_exporter": "python",
   "pygments_lexer": "ipython3",
   "version": "3.7.6"
  }
 },
 "nbformat": 4,
 "nbformat_minor": 4
}
